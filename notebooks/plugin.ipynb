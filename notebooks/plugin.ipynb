{
 "cells": [
  {
   "cell_type": "code",
   "execution_count": 31,
   "metadata": {},
   "outputs": [],
   "source": [
    "import numpy as np\n",
    "import pandas as pd "
   ]
  },
  {
   "cell_type": "code",
   "execution_count": 57,
   "metadata": {},
   "outputs": [],
   "source": [
    "from typing import List\n",
    "import csv\n",
    "\n",
    "def parse_species_list(species_file: str, delimiter='\\n') -> List[str]:\n",
    "    with open(species_file, 'r') as f:\n",
    "         species_list = [name for lst in csv.reader(f, delimiter=delimiter) \n",
    "                         for name in lst]          \n",
    "    \n",
    "    return species_list"
   ]
  },
  {
   "cell_type": "code",
   "execution_count": 71,
   "metadata": {},
   "outputs": [],
   "source": [
    "# Article input\n",
    "full_data = \"./tests/data/4347_final_relative_abundances.txt\"\n",
    "MH_species_file = \"./tests/data/MH_species.txt\"\n",
    "MN_species_file = \"./tests/data/MN_species.txt\"\n",
    "\n",
    "# QIIME2-adapted input\n",
    "q2_data = \"./tests/data/relative_table.qza\"\n",
    "q2_h_species = \"./tests/data/MH_species.tsv\"\n",
    "q2_n_species = \"./tests/data/MN_species.tsv\"\n",
    "\n",
    "# OUTPUT\n",
    "output_file = \"GMHI_output.csv\"\n",
    "\n",
    "# TEST DATA\n"
   ]
  },
  {
   "cell_type": "markdown",
   "metadata": {},
   "source": [
    "## Overall Steps\n",
    "1. Run MetaPhlAn2 on a stool metagenome using '--tax_lev s' argument.\n",
    "2. Merge outputs using 'merge_metaphlan_tables.py' script provided in the MetaPhlAn2 pipeline (see MetaPhlAn2's online tutorial).\n",
    "3. Make sure of the following: The merged species' relative abundance profile should be arranged as shown in 'species_relative_abundances.csv'. Accordingly, the first column should contain names of the species-level clades (i.e., taxonomic names with 's__' flag). Subsequent columns should contain the species' relative abundances corresponding to each metagenome sample.\n",
    "4. Save input data from Step-3 as a '.csv' file, and run the following script to calculate GMHI for each stool metagenome. GMHI values for each sample in 'species_relative_abundances.csv' are shown in 'GMHI_output.csv'."
   ]
  },
  {
   "cell_type": "markdown",
   "metadata": {},
   "source": [
    "## Importing relative abundances"
   ]
  },
  {
   "cell_type": "markdown",
   "metadata": {},
   "source": [
    "### As in original paper"
   ]
  },
  {
   "cell_type": "code",
   "execution_count": 72,
   "metadata": {},
   "outputs": [],
   "source": [
    "tmp = pd.read_csv(full_data, sep = \"\\t\",\n",
    "                   header = 0, index_col = 0)"
   ]
  },
  {
   "cell_type": "markdown",
   "metadata": {},
   "source": [
    "### As Q2 Artifact API"
   ]
  },
  {
   "cell_type": "code",
   "execution_count": 73,
   "metadata": {},
   "outputs": [],
   "source": [
    "from qiime2 import Artifact\n",
    "\n",
    "tmp1 = Artifact.load(q2_data).view(pd.DataFrame).T"
   ]
  },
  {
   "cell_type": "markdown",
   "metadata": {},
   "source": [
    "### Test: comparing 2 ways of data importing"
   ]
  },
  {
   "cell_type": "code",
   "execution_count": 74,
   "metadata": {},
   "outputs": [
    {
     "data": {
      "text/plain": [
       "True"
      ]
     },
     "execution_count": 74,
     "metadata": {},
     "output_type": "execute_result"
    }
   ],
   "source": [
    "# TEST: are inputs identical\n",
    "tmp.round(13).equals(tmp1.round(13))"
   ]
  },
  {
   "cell_type": "markdown",
   "metadata": {},
   "source": [
    "Proposed way of importing relative abundances through QIIME2 framework yields identical results."
   ]
  },
  {
   "cell_type": "markdown",
   "metadata": {},
   "source": [
    "## Further data processing"
   ]
  },
  {
   "cell_type": "code",
   "execution_count": 75,
   "metadata": {},
   "outputs": [],
   "source": [
    "# Removing unclassified and virus species - skipped transposing steps\n",
    "na_species = tmp1.index.str.contains('unclassified|virus', regex=True)\n",
    "species_profile_2 = tmp1[~na_species]"
   ]
  },
  {
   "cell_type": "code",
   "execution_count": 76,
   "metadata": {},
   "outputs": [],
   "source": [
    "# Re-normalization of species' relative abundances after removing unclassified and virus species\n",
    "species_profile_3 = species_profile_2.apply(lambda x: x/x.sum(), axis=0)\n",
    "species_profile_3[species_profile_3 < 0.00001] = 0"
   ]
  },
  {
   "cell_type": "markdown",
   "metadata": {},
   "source": [
    "### Species list import"
   ]
  },
  {
   "cell_type": "code",
   "execution_count": 77,
   "metadata": {},
   "outputs": [],
   "source": [
    "MH_species = parse_species_list(MH_species_file) # Health-prevalent species (7 in total)\n",
    "MN_species = parse_species_list(MN_species_file) # Health-scarce species (43 in total)"
   ]
  },
  {
   "cell_type": "markdown",
   "metadata": {},
   "source": [
    "### QIIME2 species list importing "
   ]
  },
  {
   "cell_type": "code",
   "execution_count": 78,
   "metadata": {},
   "outputs": [],
   "source": [
    "h_species = Artifact.import_data('FeatureData[Taxonomy]', q2_h_species, view_type='HeaderlessTSVTaxonomyFormat')\n",
    "n_species = Artifact.import_data('FeatureData[Taxonomy]', q2_n_species, view_type='HeaderlessTSVTaxonomyFormat')"
   ]
  },
  {
   "cell_type": "code",
   "execution_count": 79,
   "metadata": {},
   "outputs": [],
   "source": [
    "from q2_types.feature_data import (FeatureData, Taxonomy)\n",
    "from typing import List\n",
    "\n",
    "def species_list_from_q2_artifact(feature_data_taxonomy: FeatureData[Taxonomy]) -> List[str]:\n",
    "    df = feature_data_taxonomy.view(pd.DataFrame)\n",
    "    species_list = [x for x in df['Taxon']]\n",
    "    \n",
    "    return species_list"
   ]
  },
  {
   "cell_type": "code",
   "execution_count": 80,
   "metadata": {},
   "outputs": [],
   "source": [
    "mh_list = species_list_from_q2_artifact(h_species)\n",
    "mn_list = species_list_from_q2_artifact(n_species)"
   ]
  },
  {
   "cell_type": "markdown",
   "metadata": {},
   "source": [
    "### Test: comparing features lists"
   ]
  },
  {
   "cell_type": "code",
   "execution_count": 81,
   "metadata": {},
   "outputs": [
    {
     "data": {
      "text/plain": [
       "True"
      ]
     },
     "execution_count": 81,
     "metadata": {},
     "output_type": "execute_result"
    }
   ],
   "source": [
    "mh_list == MH_species and mn_list == MN_species"
   ]
  },
  {
   "cell_type": "markdown",
   "metadata": {},
   "source": [
    "## GMHI Calculation"
   ]
  },
  {
   "cell_type": "code",
   "execution_count": 82,
   "metadata": {},
   "outputs": [],
   "source": [
    "# Extracting Health-prevalent species present in metagenome\n",
    "MH_species_metagenome = species_profile_3[species_profile_3.index.isin(MH_species)]\n",
    "# Extracting Health-scarce species present in metagenome\n",
    "MN_species_metagenome = species_profile_3[species_profile_3.index.isin(MN_species)]"
   ]
  },
  {
   "cell_type": "code",
   "execution_count": 83,
   "metadata": {},
   "outputs": [],
   "source": [
    "# Shannon index - alpha diversity\n",
    "MH_not_zero = MH_species_metagenome[MH_species_metagenome > 0]\n",
    "MN_not_zero = MN_species_metagenome[MN_species_metagenome > 0]\n",
    "alpha = lambda x: -1 * np.sum(np.log(x) * x)\n",
    "MH_shannon = MH_not_zero.apply(alpha, axis=0)\n",
    "MN_shannon = MN_not_zero.apply(alpha, axis=0)"
   ]
  },
  {
   "cell_type": "code",
   "execution_count": 84,
   "metadata": {},
   "outputs": [],
   "source": [
    "# Richness of Health-prevalent species\n",
    "R_MH = MH_not_zero.count()\n",
    "# Richness of Health-scarce species\n",
    "R_MN = MN_not_zero.count()"
   ]
  },
  {
   "cell_type": "code",
   "execution_count": 85,
   "metadata": {},
   "outputs": [],
   "source": [
    "constant = R_MH.rename('h').to_frame().join(R_MN.rename('n').to_frame())"
   ]
  },
  {
   "cell_type": "markdown",
   "metadata": {},
   "source": [
    "### Rank ordering and primes calculation - see [Methods](https://www.nature.com/articles/s41467-020-18476-8#Sec15)"
   ]
  },
  {
   "cell_type": "code",
   "execution_count": 86,
   "metadata": {},
   "outputs": [],
   "source": [
    "import re\n",
    "# searching for healthy samples in dataset \n",
    "healthy_mask = tmp1.columns.str.contains('healthy', flags=re.I, regex=True)\n",
    "\n",
    "# calculating healthy and non-healthy samples\n",
    "n_healthy = healthy_mask.sum()\n",
    "n_non_healthy = len(tmp1.columns) - n_healthy\n",
    "\n",
    "# calculating kh and kn\n",
    "n = 1 # kh and kn are 1% of all healthy and non-healthy samples respectively\n",
    "kh = int(n_healthy*(n/100))\n",
    "kn = int(n_non_healthy*(n/100))\n",
    "\n",
    "#Median RMH from 1% of the top-ranked samples (see Methods)\n",
    "HC1 = constant.sort_values(by=['h', 'n'], ascending=[False, True])\n",
    "MH_prime = np.median(HC1[:kh]['h'])\n",
    "\n",
    "#Median RMN from 1% of the bottom-ranked samples (see Methods)\n",
    "NHC1 = constant.sort_values(by=['h', 'n'], ascending=[True, False])\n",
    "MN_prime = np.median(NHC1[:kn]['n'])"
   ]
  },
  {
   "cell_type": "markdown",
   "metadata": {},
   "source": [
    "### Creating GMHI table as output"
   ]
  },
  {
   "cell_type": "code",
   "execution_count": 87,
   "metadata": {},
   "outputs": [],
   "source": [
    "# Collective abundance of Health-prevalent species\n",
    "# Collective abundance of Health-scarce species\n",
    "\n",
    "psi_MH = (R_MH / MH_prime) * MH_shannon \n",
    "psi_MN = (R_MN / MN_prime) * MN_shannon\n",
    "index = np.log10((psi_MH + 0.00001) / (psi_MN + 0.00001))  # 0.00001 added to avoid having the denominator as 0"
   ]
  },
  {
   "cell_type": "code",
   "execution_count": 88,
   "metadata": {},
   "outputs": [],
   "source": [
    "GMHI = pd.DataFrame(index, columns=['GMHI'])"
   ]
  },
  {
   "cell_type": "markdown",
   "metadata": {},
   "source": [
    "## Plotting and visual inspection - [Fig. 3a](https://www.nature.com/articles/s41467-020-18476-8/figures/3)"
   ]
  },
  {
   "cell_type": "code",
   "execution_count": 89,
   "metadata": {},
   "outputs": [],
   "source": [
    "GMHI['Type'] = GMHI.index.str.split(\"_\", expand=True)\n",
    "GMHI['Type'] = GMHI.Type.apply(lambda x: x[0])"
   ]
  },
  {
   "cell_type": "code",
   "execution_count": 90,
   "metadata": {},
   "outputs": [
    {
     "data": {
      "image/png": "[encoded data removed]",
      "text/plain": [
       "<Figure size 432x288 with 1 Axes>"
      ]
     },
     "metadata": {},
     "output_type": "display_data"
    }
   ],
   "source": [
    "import seaborn as sns\n",
    "import matplotlib.pyplot as plt\n",
    "\n",
    "GMHI['non-healthy'] = GMHI.Type != 'Healthy'\n",
    "\n",
    "sns.set_style('darkgrid')\n",
    "g = sns.violinplot(x='non-healthy', y='GMHI', data=GMHI, scale='width', width=0.5)\n",
    "g.set(ylim=(-6, 6), xlabel='', xticklabels=['Healthy', 'Non-Healthy']);"
   ]
  },
  {
   "cell_type": "code",
   "execution_count": 91,
   "metadata": {},
   "outputs": [
    {
     "data": {
      "text/html": [
       "<div>\n",
       "<style scoped>\n",
       "    .dataframe tbody tr th:only-of-type {\n",
       "        vertical-align: middle;\n",
       "    }\n",
       "\n",
       "    .dataframe tbody tr th {\n",
       "        vertical-align: top;\n",
       "    }\n",
       "\n",
       "    .dataframe thead th {\n",
       "        text-align: right;\n",
       "    }\n",
       "</style>\n",
       "<table border=\"1\" class=\"dataframe\">\n",
       "  <thead>\n",
       "    <tr style=\"text-align: right;\">\n",
       "      <th></th>\n",
       "      <th>GMHI</th>\n",
       "    </tr>\n",
       "  </thead>\n",
       "  <tbody>\n",
       "    <tr>\n",
       "      <th>count</th>\n",
       "      <td>4347.000000</td>\n",
       "    </tr>\n",
       "    <tr>\n",
       "      <th>mean</th>\n",
       "      <td>0.435311</td>\n",
       "    </tr>\n",
       "    <tr>\n",
       "      <th>std</th>\n",
       "      <td>2.226649</td>\n",
       "    </tr>\n",
       "    <tr>\n",
       "      <th>min</th>\n",
       "      <td>-5.128125</td>\n",
       "    </tr>\n",
       "    <tr>\n",
       "      <th>25%</th>\n",
       "      <td>-0.864572</td>\n",
       "    </tr>\n",
       "    <tr>\n",
       "      <th>50%</th>\n",
       "      <td>0.586145</td>\n",
       "    </tr>\n",
       "    <tr>\n",
       "      <th>75%</th>\n",
       "      <td>2.063562</td>\n",
       "    </tr>\n",
       "    <tr>\n",
       "      <th>max</th>\n",
       "      <td>4.815488</td>\n",
       "    </tr>\n",
       "  </tbody>\n",
       "</table>\n",
       "</div>"
      ],
      "text/plain": [
       "              GMHI\n",
       "count  4347.000000\n",
       "mean      0.435311\n",
       "std       2.226649\n",
       "min      -5.128125\n",
       "25%      -0.864572\n",
       "50%       0.586145\n",
       "75%       2.063562\n",
       "max       4.815488"
      ]
     },
     "execution_count": 91,
     "metadata": {},
     "output_type": "execute_result"
    }
   ],
   "source": [
    "GMHI.describe()"
   ]
  }
 ],
 "metadata": {
  "kernelspec": {
   "display_name": "Python 3",
   "language": "python",
   "name": "python3"
  },
  "language_info": {
   "codemirror_mode": {
    "name": "ipython",
    "version": 3
   },
   "file_extension": ".py",
   "mimetype": "text/x-python",
   "name": "python",
   "nbconvert_exporter": "python",
   "pygments_lexer": "ipython3",
   "version": "3.8.5"
  }
 },
 "nbformat": 4,
 "nbformat_minor": 4
}
